{
 "cells": [
  {
   "cell_type": "code",
   "execution_count": 9,
   "metadata": {},
   "outputs": [
    {
     "name": "stdout",
     "output_type": "stream",
     "text": [
      "Index(['Country Name', 'Country Code', 'Series Name', 'Series Code',\n",
      "       '2013 [YR2013]', '2014 [YR2014]', '2015 [YR2015]', '2016 [YR2016]',\n",
      "       '2017 [YR2017]', '2018 [YR2018]', '2019 [YR2019]', '2020 [YR2020]',\n",
      "       '2021 [YR2021]', '2022 [YR2022]'],\n",
      "      dtype='object')\n",
      "Index(['Country Name', 'Country Code', 'Series Name', '2013 [YR2013]',\n",
      "       '2014 [YR2014]', '2015 [YR2015]', '2016 [YR2016]', '2017 [YR2017]',\n",
      "       '2018 [YR2018]', '2019 [YR2019]', '2020 [YR2020]', '2021 [YR2021]'],\n",
      "      dtype='object')\n"
     ]
    }
   ],
   "source": [
    "import pandas as pd\n",
    "import warnings\n",
    "warnings.filterwarnings('ignore')\n",
    "\n",
    "# Load the Book.xlsx file\n",
    "df = pd.read_excel('Book.xlsx')\n",
    "\n",
    "# Print the columns to verify their names\n",
    "print(df.columns)\n",
    "\n",
    "# Drop the fourth and 14th columns\n",
    "df.drop([df.columns[3], df.columns[13]], axis=1, inplace=True)\n",
    "\n",
    "# Print the remaining column names\n",
    "print(df.columns)\n"
   ]
  }
 ],
 "metadata": {
  "kernelspec": {
   "display_name": "Python 3",
   "language": "python",
   "name": "python3"
  },
  "language_info": {
   "codemirror_mode": {
    "name": "ipython",
    "version": 3
   },
   "file_extension": ".py",
   "mimetype": "text/x-python",
   "name": "python",
   "nbconvert_exporter": "python",
   "pygments_lexer": "ipython3",
   "version": "3.9.2"
  },
  "orig_nbformat": 4
 },
 "nbformat": 4,
 "nbformat_minor": 2
}
